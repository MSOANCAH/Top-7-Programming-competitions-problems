{
 "cells": [
  {
   "cell_type": "markdown",
   "metadata": {},
   "source": [
    "### P 1 : Sum of the first nth term of Series\n",
    "\n",
    "Series: 1 + 1/4 + 1/7 + 1/10 + 1/13 + 1/16 +...\n",
    "Rules:\n",
    "\n",
    "You need to round the answer to 2 decimal places and return it as String.\n",
    "If the given value is 0 then it should return 0.00\n",
    "You will only be given Natural Numbers as arguments.\n",
    "Examples:\n",
    "\n",
    "SeriesSum(1) => 1 = \"1.00\"\n",
    "SeriesSum(2) => 1 + 1/4 = \"1.25\"\n",
    "SeriesSum(5) => 1 + 1/4 + 1/7 + 1/10 + 1/13 = \"1.57\""
   ]
  },
  {
   "cell_type": "code",
   "execution_count": 1,
   "metadata": {},
   "outputs": [],
   "source": [
    "def series_sum(n):\n",
    "    # Happy Coding ^_^\n",
    "    initial_value = 4.00 \n",
    "    if n==0:\n",
    "        return \"%.2f\" % 0\n",
    "    \n",
    "    if n==1:\n",
    "        output=\"%.2f\"% 1\n",
    "        return output\n",
    "    else:\n",
    "        output=float(\"%.2f\"% 1)\n",
    "        for i in range(n-1):\n",
    "            output+= 1/initial_value\n",
    "            initial_value+=3.00\n",
    "    \n",
    "    return \"%.2f\" % output"
   ]
  },
  {
   "cell_type": "code",
   "execution_count": 2,
   "metadata": {},
   "outputs": [
    {
     "name": "stdout",
     "output_type": "stream",
     "text": [
      "1.25\n",
      "1.00\n",
      "1.57\n",
      "0.00\n"
     ]
    }
   ],
   "source": [
    "print(series_sum(2))\n",
    "print(series_sum(1))\n",
    "print(series_sum(5))\n",
    "print(series_sum(0))"
   ]
  },
  {
   "cell_type": "code",
   "execution_count": null,
   "metadata": {},
   "outputs": [],
   "source": []
  },
  {
   "cell_type": "markdown",
   "metadata": {},
   "source": [
    "### P 2 : Stop gninnipS My sdroW!\n",
    "\n",
    "Write a function that takes in a string of one or more words, and returns the same string, but with all five or more letter words reversed (Just like the name of this Kata). Strings passed in will consist of only letters and spaces. Spaces will be included only when more than one word is present.\n",
    "\n",
    "\n",
    "Examples:\n",
    "\n",
    "spinWords( \"Hey fellow warriors\" ) => returns \"Hey wollef sroirraw\" \n",
    "spinWords( \"This is a test\") => returns \"This is a test\" \n",
    "spinWords( \"This is another test\" )=> returns \"This is rehtona test\""
   ]
  },
  {
   "cell_type": "code",
   "execution_count": 1,
   "metadata": {},
   "outputs": [],
   "source": [
    "def spin_words(sentence):\n",
    "    \n",
    "    words=sentence.split()\n",
    "    output=\"\"\n",
    "    for word in words:\n",
    "        if len(word) >= 5:\n",
    "            #reverse the string\n",
    "            word = \"\".join(reversed(word))\n",
    "            \n",
    "        output+=word+\" \"\n",
    "        \n",
    "    return output.strip()"
   ]
  },
  {
   "cell_type": "code",
   "execution_count": 2,
   "metadata": {},
   "outputs": [
    {
     "data": {
      "text/plain": [
       "'Hi i am mady and i love gnimmargorp and enihcam gninrael'"
      ]
     },
     "execution_count": 2,
     "metadata": {},
     "output_type": "execute_result"
    }
   ],
   "source": [
    "spin_words(\"Hi i am mady and i love programming and machine learning\")"
   ]
  },
  {
   "cell_type": "code",
   "execution_count": null,
   "metadata": {},
   "outputs": [],
   "source": []
  },
  {
   "cell_type": "markdown",
   "metadata": {},
   "source": [
    "### P 3 : Persistent Bugger.\n",
    "\n",
    "Write a function, persistence, that takes in a positive parameter num and returns its multiplicative persistence, which is the number of times you must multiply the digits in num until you reach a single digit.\n",
    "\n",
    "For example:\n",
    "\n",
    " persistence(39) => 3  # Because 3*9 = 27, 2*7 = 14, 1*4=4\n",
    "                       #### and 4 has only one digit.\n",
    "\n",
    " persistence(999) => 4 # Because 9*9*9 = 729, 7*2*9 = 126,\n",
    "                       #### 1*2*6 = 12, and finally 1*2 = 2.\n",
    "\n",
    " persistence(4) => 0   # Because 4 is already a one-digit number."
   ]
  },
  {
   "cell_type": "code",
   "execution_count": 1,
   "metadata": {},
   "outputs": [],
   "source": [
    "def persistence(n):\n",
    "    # your code\n",
    "    if n<10:\n",
    "        return 0\n",
    "    \n",
    "    #separate the number\n",
    "    output=1\n",
    "    nums=[int(d) for d in str(n)]\n",
    "    for num in nums:\n",
    "        output*=num\n",
    "    out = 1+persistence(output)\n",
    "    \n",
    "    return out\n",
    "    "
   ]
  },
  {
   "cell_type": "code",
   "execution_count": 2,
   "metadata": {},
   "outputs": [
    {
     "name": "stdout",
     "output_type": "stream",
     "text": [
      "2\n"
     ]
    }
   ],
   "source": [
    "print(persistence(25))"
   ]
  },
  {
   "cell_type": "markdown",
   "metadata": {},
   "source": [
    "Iterative code"
   ]
  },
  {
   "cell_type": "code",
   "execution_count": 3,
   "metadata": {},
   "outputs": [],
   "source": [
    "def persistence(n):\n",
    "    # your code\n",
    "    if n<10:\n",
    "        return 0\n",
    "    \n",
    "    done = True\n",
    "    res=0\n",
    "    while(done):\n",
    "        res+=1\n",
    "        output=1\n",
    "        nums=[int(d) for d in str(n)]\n",
    "        for num in nums:\n",
    "            output*=num\n",
    "            \n",
    "        if output<10:\n",
    "            done = False\n",
    "            return res\n",
    "            \n",
    "        n = output"
   ]
  },
  {
   "cell_type": "code",
   "execution_count": 4,
   "metadata": {},
   "outputs": [
    {
     "name": "stdout",
     "output_type": "stream",
     "text": [
      "4\n"
     ]
    }
   ],
   "source": [
    "print(persistence(999))"
   ]
  },
  {
   "cell_type": "code",
   "execution_count": null,
   "metadata": {},
   "outputs": [],
   "source": []
  }
 ],
 "metadata": {
  "kernelspec": {
   "display_name": "Python 3",
   "language": "python",
   "name": "python3"
  },
  "language_info": {
   "codemirror_mode": {
    "name": "ipython",
    "version": 3
   },
   "file_extension": ".py",
   "mimetype": "text/x-python",
   "name": "python",
   "nbconvert_exporter": "python",
   "pygments_lexer": "ipython3",
   "version": "3.5.2"
  }
 },
 "nbformat": 4,
 "nbformat_minor": 2
}
