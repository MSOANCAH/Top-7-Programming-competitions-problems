{
 "cells": [
  {
   "cell_type": "markdown",
   "metadata": {},
   "source": [
    "### Q 1:Sum of the first nth term of Series\n",
    "\n",
    "Series: 1 + 1/4 + 1/7 + 1/10 + 1/13 + 1/16 +...\n",
    "Rules:\n",
    "\n",
    "You need to round the answer to 2 decimal places and return it as String.\n",
    "If the given value is 0 then it should return 0.00\n",
    "You will only be given Natural Numbers as arguments.\n",
    "Examples:\n",
    "\n",
    "SeriesSum(1) => 1 = \"1.00\"\n",
    "SeriesSum(2) => 1 + 1/4 = \"1.25\"\n",
    "SeriesSum(5) => 1 + 1/4 + 1/7 + 1/10 + 1/13 = \"1.57\""
   ]
  },
  {
   "cell_type": "code",
   "execution_count": 1,
   "metadata": {},
   "outputs": [],
   "source": [
    "def series_sum(n):\n",
    "    # Happy Coding ^_^\n",
    "    initial_value = 4.00 \n",
    "    if n==0:\n",
    "        return \"%.2f\" % 0\n",
    "    \n",
    "    if n==1:\n",
    "        output=\"%.2f\"% 1\n",
    "        return output\n",
    "    else:\n",
    "        output=float(\"%.2f\"% 1)\n",
    "        for i in range(n-1):\n",
    "            output+= 1/initial_value\n",
    "            initial_value+=3.00\n",
    "    \n",
    "    return \"%.2f\" % output"
   ]
  },
  {
   "cell_type": "code",
   "execution_count": 2,
   "metadata": {},
   "outputs": [
    {
     "name": "stdout",
     "output_type": "stream",
     "text": [
      "1.25\n",
      "1.00\n",
      "1.57\n",
      "0.00\n"
     ]
    }
   ],
   "source": [
    "print(series_sum(2))\n",
    "print(series_sum(1))\n",
    "print(series_sum(5))\n",
    "print(series_sum(0))"
   ]
  },
  {
   "cell_type": "code",
   "execution_count": null,
   "metadata": {},
   "outputs": [],
   "source": []
  }
 ],
 "metadata": {
  "kernelspec": {
   "display_name": "Python 3",
   "language": "python",
   "name": "python3"
  },
  "language_info": {
   "codemirror_mode": {
    "name": "ipython",
    "version": 3
   },
   "file_extension": ".py",
   "mimetype": "text/x-python",
   "name": "python",
   "nbconvert_exporter": "python",
   "pygments_lexer": "ipython3",
   "version": "3.5.2"
  }
 },
 "nbformat": 4,
 "nbformat_minor": 2
}
